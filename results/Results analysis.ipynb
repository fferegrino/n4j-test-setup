{
 "cells": [
  {
   "cell_type": "code",
   "execution_count": null,
   "metadata": {},
   "outputs": [],
   "source": [
    "from glob import glob as glob\n",
    "from datetime import datetime\n",
    "import csv\n",
    "import pandas as pd\n",
    "\n",
    "def get_date(file, year=2018):\n",
    "    parts = file[len(\"logs/results-\"):-4]\n",
    "    return datetime(year, int(parts[0:2]), int(parts[2:4]), int(parts[4:6]), int(parts[6:8]))"
   ]
  },
  {
   "cell_type": "code",
   "execution_count": null,
   "metadata": {},
   "outputs": [],
   "source": [
    "prev = None\n",
    "dfs_l = []\n",
    "for file in glob(\"logs/*.txt\"):\n",
    "    with open(file, \"r\") as r:\n",
    "        rd = csv.reader(r, delimiter=\"\\t\", quotechar='\"')\n",
    "        lines_to_df = []\n",
    "        for l in rd:\n",
    "            if len(l) <4 : continue\n",
    "            if l[3] == '0':\n",
    "                prev = l\n",
    "            else:\n",
    "                prev[3] = l[3]\n",
    "                lines_to_df.append(prev)\n",
    "                lines_to_df.append(l)\n",
    "        frame = pd.DataFrame(lines_to_df, \n",
    "                             columns=[\n",
    "                                 'run', 'data', \n",
    "                                 'instance', 'records', \n",
    "                                 'insertion', 'ins/retrieve','retrieve'])\n",
    "        frame[['records','insertion','ins/retrieve','retrieve']] = frame[['records','insertion','ins/retrieve','retrieve']].apply(pd.to_numeric)\n",
    "        frame['date'] = get_date(file)\n",
    "        dfs_l.append(frame)\n",
    "results = pd.concat(dfs_l)\n",
    "results.sample(10)"
   ]
  },
  {
   "cell_type": "code",
   "execution_count": null,
   "metadata": {},
   "outputs": [],
   "source": [
    "aggregate = results.groupby(['data','instance','records']).mean()\n",
    "flights = aggregate.loc['flights'].reset_index()\n",
    "other = aggregate.loc['other'].reset_index()"
   ]
  },
  {
   "cell_type": "code",
   "execution_count": null,
   "metadata": {
    "scrolled": false
   },
   "outputs": [],
   "source": [
    "import matplotlib.pyplot as plt\n",
    "\n",
    "instances = flights.instance.unique()\n",
    "\n",
    "plt.figure(figsize=(12,4))\n",
    "plt.subplot(121)\n",
    "for instance in instances:\n",
    "    instance_rows = flights[flights['instance'] == instance]\n",
    "    plt.plot(instance_rows.records, instance_rows['insertion'], label=instance)\n",
    "    plt.legend()\n",
    "plt.xlabel('Records')\n",
    "plt.ylabel('Seconds elapsed')\n",
    "plt.title('Insertion')\n",
    "plt.subplot(122)\n",
    "for instance in instances:\n",
    "    instance_rows = flights[flights['instance'] == instance]\n",
    "    plt.plot(instance_rows.records, instance_rows['ins/retrieve'], label=instance)\n",
    "    plt.legend()\n",
    "plt.xlabel('Records')\n",
    "plt.ylabel('Seconds elapsed')\n",
    "plt.title('Retrieval')\n",
    "plt.tight_layout()\n",
    "plt.show()"
   ]
  },
  {
   "cell_type": "code",
   "execution_count": null,
   "metadata": {},
   "outputs": [],
   "source": []
  }
 ],
 "metadata": {
  "kernelspec": {
   "display_name": "Python 3",
   "language": "python",
   "name": "python3"
  },
  "language_info": {
   "codemirror_mode": {
    "name": "ipython",
    "version": 3
   },
   "file_extension": ".py",
   "mimetype": "text/x-python",
   "name": "python",
   "nbconvert_exporter": "python",
   "pygments_lexer": "ipython3",
   "version": "3.6.5"
  }
 },
 "nbformat": 4,
 "nbformat_minor": 2
}
