{
 "cells": [
  {
   "cell_type": "code",
   "execution_count": null,
   "metadata": {},
   "outputs": [],
   "source": [
    "from glob import glob as glob\n",
    "from datetime import datetime\n",
    "import matplotlib.pyplot as plt\n",
    "import seaborn as sns\n",
    "import csv\n",
    "import pandas as pd\n",
    "\n",
    "def get_date(file, year=2018):\n",
    "    parts = file[len(\"logs/results-\"):-4]\n",
    "    return datetime(year, int(parts[0:2]), int(parts[2:4]), int(parts[4:6]), int(parts[6:8]))"
   ]
  },
  {
   "cell_type": "code",
   "execution_count": null,
   "metadata": {},
   "outputs": [],
   "source": [
    "prev = None\n",
    "dfs_l = []\n",
    "for file in glob(\"logs/*.txt\"):\n",
    "    with open(file, \"r\") as r:\n",
    "        rd = csv.reader(r, delimiter=\"\\t\", quotechar='\"')\n",
    "        lines_to_df = []\n",
    "        for l in rd:\n",
    "            if len(l) <4 : continue\n",
    "            if l[3] == '0':\n",
    "                prev = l\n",
    "            else:\n",
    "                prev[3] = l[3]\n",
    "                lines_to_df.append(prev)\n",
    "                lines_to_df.append(l)\n",
    "        frame = pd.DataFrame(lines_to_df, \n",
    "                             columns=[\n",
    "                                 'run', 'data', \n",
    "                                 'instance', 'records', \n",
    "                                 'insertion', 'ins_retrieve','retrieve'])\n",
    "        frame[['records','insertion','ins_retrieve','retrieve']] = frame[['records','insertion','ins_retrieve','retrieve']].apply(pd.to_numeric)\n",
    "        frame['date'] = get_date(file)\n",
    "        dfs_l.append(frame)\n",
    "results = pd.concat(dfs_l)\n",
    "results.sample(10)"
   ]
  },
  {
   "cell_type": "code",
   "execution_count": null,
   "metadata": {},
   "outputs": [],
   "source": [
    "aggregate = results.groupby(['data','instance','records']).mean()\n",
    "flights = aggregate.loc['flights'].reset_index()\n",
    "other = aggregate.loc['other'].reset_index()"
   ]
  },
  {
   "cell_type": "code",
   "execution_count": null,
   "metadata": {
    "scrolled": false
   },
   "outputs": [],
   "source": [
    "marg = 0\n",
    "\n",
    "instance_dict = {\n",
    "    '3.4.0-apoc': ['As strings, using APOC (3.4.0)', 'rv--'],\n",
    "    '3.4.0-plain': ['As strings (3.4.0)', 'g^--'],\n",
    "    '3.5.0-maps': ['As maps (3.5.0)', 'bo--'],\n",
    "}\n",
    "\n",
    "measures_dict = {\n",
    "    'insertion': 'Insertion', \n",
    "    'ins_retrieve': 'Retrieval'\n",
    "}\n",
    "\n",
    "def plot(data, measures):\n",
    "    for measure in measures:\n",
    "        plt.figure(figsize=(10,6), frameon=False)\n",
    "        instances = data.instance.unique()\n",
    "        sns.barplot(x='records', y=measure, data=data,hue='instance')\n",
    "        plt.legend(loc='upper left', frameon=True)\n",
    "        plt.margins(0.01,0.02)\n",
    "#        plt.xlim(-marg, 1_000_000 + marg)\n",
    "        plt.xlabel('Records')\n",
    "        plt.ylabel('Seconds elapsed')\n",
    "        plt.yscale('log')\n",
    "        plt.title(measures_dict[measure])\n",
    "        plt.grid(True, alpha=0.5)\n",
    "        plt.tight_layout()\n",
    "        plt.savefig('images/'+measure)\n",
    "plot(flights, ['insertion', 'ins_retrieve'])"
   ]
  },
  {
   "cell_type": "code",
   "execution_count": null,
   "metadata": {
    "collapsed": true
   },
   "outputs": [],
   "source": []
  },
  {
   "cell_type": "code",
   "execution_count": null,
   "metadata": {},
   "outputs": [],
   "source": []
  }
 ],
 "metadata": {
  "kernelspec": {
   "display_name": "Python 3",
   "language": "python",
   "name": "python3"
  },
  "language_info": {
   "codemirror_mode": {
    "name": "ipython",
    "version": 3
   },
   "file_extension": ".py",
   "mimetype": "text/x-python",
   "name": "python",
   "nbconvert_exporter": "python",
   "pygments_lexer": "ipython3",
   "version": "3.6.5"
  }
 },
 "nbformat": 4,
 "nbformat_minor": 2
}
